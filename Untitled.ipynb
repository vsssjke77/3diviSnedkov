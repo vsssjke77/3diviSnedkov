{
 "cells": [
  {
   "cell_type": "code",
   "execution_count": 1,
   "id": "1a945039-3143-47f1-8625-029faa983a76",
   "metadata": {},
   "outputs": [
    {
     "data": {
      "text/plain": [
       "array([[0.37992525, 0.14594204, 0.93327028, 0.45894241],\n",
       "       [0.01740289, 0.87684982, 0.76326843, 0.13391644],\n",
       "       [0.50176057, 0.27883903, 0.78722632, 0.25302006],\n",
       "       [0.9356724 , 0.92278946, 0.93343941, 0.79221363]])"
      ]
     },
     "execution_count": 1,
     "metadata": {},
     "output_type": "execute_result"
    }
   ],
   "source": [
    "import numpy as np\n",
    "np.random.random((4, 4))"
   ]
  },
  {
   "cell_type": "code",
   "execution_count": null,
   "id": "dfb0ed35-367e-4369-a43b-c56ea423e74f",
   "metadata": {},
   "outputs": [],
   "source": []
  }
 ],
 "metadata": {
  "kernelspec": {
   "display_name": "Python 3 (ipykernel)",
   "language": "python",
   "name": "python3"
  },
  "language_info": {
   "codemirror_mode": {
    "name": "ipython",
    "version": 3
   },
   "file_extension": ".py",
   "mimetype": "text/x-python",
   "name": "python",
   "nbconvert_exporter": "python",
   "pygments_lexer": "ipython3",
   "version": "3.12.0"
  }
 },
 "nbformat": 4,
 "nbformat_minor": 5
}
